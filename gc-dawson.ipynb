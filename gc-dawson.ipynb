{
 "cells": [
  {
   "cell_type": "markdown",
   "id": "43f42d93-d1b6-4773-a10b-59537380ca82",
   "metadata": {},
   "source": [
    "# GC Dawson\n",
    "This notebook will try to reproduce Denys's results so we can test some pragmatic things."
   ]
  },
  {
   "cell_type": "code",
   "execution_count": 1,
   "id": "9cdda7fc-381d-4741-aa2e-b459705857d1",
   "metadata": {},
   "outputs": [],
   "source": [
    "data = \"data\"\n",
    "geom = \"Al128\"\n",
    "temperature = 3000"
   ]
  },
  {
   "cell_type": "code",
   "execution_count": 2,
   "id": "56945595-60a0-4b0c-9786-aa5cb006bf60",
   "metadata": {},
   "outputs": [
    {
     "name": "stdout",
     "output_type": "stream",
     "text": [
      "105.25834703428607\n"
     ]
    }
   ],
   "source": [
    "def fermi(x, m, beta):\n",
    "    from numpy import exp\n",
    "    try:\n",
    "        return 1.0 / (1 + exp(beta * (x - m)))\n",
    "    except OverflowError:\n",
    "        return 0\n",
    "kb = 3.1668114 * 10**(-6)\n",
    "beta = 1 / (temperature * kb)\n",
    "print(beta)"
   ]
  },
  {
   "cell_type": "markdown",
   "id": "eb3f12d0-b91a-4e4c-8427-011b50f85c9d",
   "metadata": {},
   "source": [
    "Read in the matrices and metadata."
   ]
  },
  {
   "cell_type": "code",
   "execution_count": 3,
   "id": "ec740908-0003-4496-be68-119154bfcf8c",
   "metadata": {},
   "outputs": [],
   "source": [
    "from scipy.io import mmread\n",
    "from numpy import identity\n",
    "H = mmread(f\"{data}/{geom}_H.mtx\").todense()\n",
    "S = mmread(f\"{data}/{geom}_S.mtx\").todense()\n",
    "I = identity(H.shape[0])"
   ]
  },
  {
   "cell_type": "code",
   "execution_count": 4,
   "id": "751c12b2-a551-4c1d-bc24-4078e0c3daef",
   "metadata": {},
   "outputs": [],
   "source": [
    "from yaml import load, SafeLoader\n",
    "with open(f\"{data}/{geom}_meta.yaml\") as ifile:\n",
    "    meta = load(ifile, Loader=SafeLoader)"
   ]
  },
  {
   "cell_type": "markdown",
   "id": "0b99bee1-f5f4-442b-aaa8-88835ad445fb",
   "metadata": {},
   "source": [
    "Transform to the orthogonal representation to reduce the amount of code."
   ]
  },
  {
   "cell_type": "code",
   "execution_count": 5,
   "id": "2ad3a80f-c418-4377-b347-6758766ee80d",
   "metadata": {},
   "outputs": [],
   "source": [
    "from numpy import sqrt\n",
    "def funm_herm(a, func):\n",
    "    from scipy.linalg import eigh\n",
    "    w, v = eigh(a)\n",
    "    w = func(w)\n",
    "    return (v * w) @ v.conj().T\n",
    "isq = funm_herm(S, lambda x: -1/sqrt(x))\n",
    "Horth = isq @ H @ isq"
   ]
  },
  {
   "cell_type": "markdown",
   "id": "364dd1b7-806b-4d08-92d5-d45c6b85b131",
   "metadata": {},
   "source": [
    "Get the reference solution."
   ]
  },
  {
   "cell_type": "code",
   "execution_count": 6,
   "id": "dc0001a8-a881-4180-8108-5d8f914f93d3",
   "metadata": {},
   "outputs": [],
   "source": [
    "def get_exact(w, v, occ, beta):\n",
    "    from numpy import identity, diag, trace\n",
    "    imat = identity(len(w))\n",
    "    left = w[0]\n",
    "    right = w[-1]\n",
    "    refD = 1*imat\n",
    "\n",
    "    while abs(trace(refD) - occ) > 1e-8:\n",
    "        mu = left  + 0.5*(right - left)\n",
    "        we = [fermi(x, mu, beta) for x in w]\n",
    "        refD = v.dot(diag(we)).dot(v.T)\n",
    "        if trace(refD) > occ:\n",
    "            right = mu\n",
    "        else:\n",
    "            left = mu\n",
    "\n",
    "    return refD, mu"
   ]
  },
  {
   "cell_type": "code",
   "execution_count": 7,
   "id": "f45b0ef1-51c5-4a35-8711-c88bf1737d4b",
   "metadata": {},
   "outputs": [],
   "source": [
    "from scipy.linalg import eigh\n",
    "w, v = eigh(Horth)\n",
    "nocc = meta[\"nel\"] // 2\n",
    "refK, mu = get_exact(w, v, nocc, beta)\n",
    "ref_occ, _ = eigh(refK)"
   ]
  },
  {
   "cell_type": "markdown",
   "id": "03b9285f-e5d1-466e-b012-6149e2feb7d3",
   "metadata": {},
   "source": [
    "Compute the zero temperature state."
   ]
  },
  {
   "cell_type": "code",
   "execution_count": 8,
   "id": "2e8ef77a-96fd-4439-992c-66a9ac28f5f0",
   "metadata": {},
   "outputs": [],
   "source": [
    "pureK = v[:, :nocc] @ v[:, :nocc].T\n",
    "pure_occ, _ = eigh(pureK)"
   ]
  },
  {
   "cell_type": "markdown",
   "id": "7af13fb9-c5f9-4111-ab32-ecb6e87b8111",
   "metadata": {},
   "source": [
    "Now try to use Denys's method."
   ]
  },
  {
   "cell_type": "code",
   "execution_count": 14,
   "id": "e34173cc-a945-4819-b7a1-e76aa2fe4942",
   "metadata": {},
   "outputs": [],
   "source": [
    "def expm_specialized(A):\n",
    "    from numpy.linalg import norm\n",
    "    from numpy import ceil, log2, exp\n",
    "    A_L1 = norm(A, 1)\n",
    "    maxnorm = 1\n",
    "    n_squarings = max(0, int(ceil(log2(A_L1 / maxnorm))))\n",
    "    A = A / 2 ** n_squarings\n",
    "    \n",
    "    c = [\n",
    "     4996033 - 13580623*exp(-1),\n",
    "     212036664 - 576375408*exp(-1),\n",
    "     2137326660 - 5809856220*exp(-1),\n",
    "     8603087640 - 23385616800*exp(-1),\n",
    "     16212644910 - 44070538050*exp(-1),\n",
    "     14326743816 - 38944127376*exp(-1),\n",
    "     4792295508 - 13026809796*exp(-1)\n",
    "    ]\n",
    "    \n",
    "    R = A * c.pop() + I * c.pop()\n",
    "    while c:\n",
    "        R = c.pop() * I + A @ R\n",
    "    for _ in range(n_squarings):\n",
    "        R = R @ R\n",
    "    return R\n",
    "\n",
    "def anticommut(a, b):\n",
    "    temp = a @ b\n",
    "    return temp + temp.conj().T\n",
    "\n",
    "def Fm(A):\n",
    "    from numpy import sqrt\n",
    "  \n",
    "    c= [-978121 + 564719*sqrt(3),\n",
    "     50347578 - 29068188*sqrt(3),\n",
    "     -1291740987/2 + 745787007*sqrt(3)/2,\n",
    "     3582447485 - 2068327020*sqrt(3),\n",
    "     -84877583105/8 + 49004095455*sqrt(3)/8,\n",
    "     18568932480 - 10720778166*sqrt(3),\n",
    "     -20145242040 + 46523443659*sqrt(3)/4,\n",
    "     109547730435/8 - 7905926457*sqrt(3),\n",
    "     -726295290435/128 + 419326781445*sqrt(3)/128,\n",
    "     83848386765/64 - 24204944335*sqrt(3)/32,\n",
    "     -33072940615/256 + 19094671167*sqrt(3)/256]\n",
    "  \n",
    "    R = A * c.pop() + I * c.pop()\n",
    "    \n",
    "    while c:\n",
    "        R = c.pop() * I + A @ R\n",
    "   \n",
    "    return R"
   ]
  },
  {
   "cell_type": "code",
   "execution_count": 15,
   "id": "56b91792-2058-49ed-a4b9-c7ae054043a7",
   "metadata": {},
   "outputs": [],
   "source": [
    "H_larger = 0.5 * anticommut(Horth - mu * I, I - pureK)\n",
    "exp_half_H_larger = expm_specialized(-0.5 * beta * H_larger)\n",
    "H_less = 0.5 * anticommut(Horth - mu * I, pureK)\n",
    "exp_H_less = expm_specialized(beta * H_less)\n",
    "Omega = exp_half_H_larger @ Fm(exp_half_H_larger @ exp_half_H_larger) @ (I - pureK)\n",
    "Omega += Fm(exp_H_less) @ pureK"
   ]
  },
  {
   "cell_type": "code",
   "execution_count": 16,
   "id": "ee7bd54d-9dc9-4268-b230-d92ec19483d7",
   "metadata": {},
   "outputs": [],
   "source": [
    "compK = Omega.conj().T @ Omega\n",
    "comp_occ, _ = eigh(compK)"
   ]
  },
  {
   "cell_type": "markdown",
   "id": "1917df40-5b7f-4c26-9e17-358cc77f270a",
   "metadata": {},
   "source": [
    "Plot the spectra."
   ]
  },
  {
   "cell_type": "code",
   "execution_count": 17,
   "id": "87e882af-d722-432f-9549-1aee4382b590",
   "metadata": {},
   "outputs": [
    {
     "data": {
      "text/plain": [
       "<matplotlib.legend.Legend at 0x154230c10>"
      ]
     },
     "execution_count": 17,
     "metadata": {},
     "output_type": "execute_result"
    },
    {
     "data": {
      "image/png": "[encoded data removed]",
      "text/plain": [
       "<Figure size 600x300 with 1 Axes>"
      ]
     },
     "metadata": {},
     "output_type": "display_data"
    }
   ],
   "source": [
    "from matplotlib import pyplot as plt\n",
    "fig, axs = plt.subplots(1, 1, figsize=(6, 3))\n",
    "axs.axvline(mu, label=\"$\\mu$\", color='k')\n",
    "axs.plot(w, ref_occ[::-1], 'C0x', label=\"Reference\")\n",
    "axs.plot(w, comp_occ[::-1], 'C1+', label=\"Computed\")\n",
    "axs.set_xlabel(\"Energy\")\n",
    "axs.set_ylabel(\"Occupation\")\n",
    "axs.legend()"
   ]
  },
  {
   "cell_type": "markdown",
   "id": "2e4f759d-3ec2-4bdf-8621-e012d97e05a9",
   "metadata": {},
   "source": [
    "Print the error measures.\n",
    "\n",
    "I ideally, the norm and energy errors would be below to $10^{-3}$, and the number of electrons error more like $10^{-2}$. "
   ]
  },
  {
   "cell_type": "code",
   "execution_count": 18,
   "id": "3db09c27-66ce-470e-84e8-5947eb1e728e",
   "metadata": {},
   "outputs": [
    {
     "name": "stdout",
     "output_type": "stream",
     "text": [
      "Error in the norm 0.050297894962737726\n",
      "For reference, the change vs. zero temperature 2.1288846968729875\n",
      "Error in the energy -0.014399556787523693\n",
      "Error in the number of electrons 0.11364498654080535\n"
     ]
    }
   ],
   "source": [
    "from numpy.linalg import norm\n",
    "from numpy import trace\n",
    "print(\"Error in the norm\", norm(refK - compK))\n",
    "print(\"For reference, the change vs. zero temperature\", norm(refK - pureK))\n",
    "print(\"Error in the energy\", trace(refK @ Horth) - trace(compK @ Horth))\n",
    "print(\"Error in the number of electrons\", trace(refK) - trace(compK))"
   ]
  }
 ],
 "metadata": {
  "kernelspec": {
   "display_name": "Python 3 (ipykernel)",
   "language": "python",
   "name": "python3"
  },
  "language_info": {
   "codemirror_mode": {
    "name": "ipython",
    "version": 3
   },
   "file_extension": ".py",
   "mimetype": "text/x-python",
   "name": "python",
   "nbconvert_exporter": "python",
   "pygments_lexer": "ipython3",
   "version": "3.9.16"
  }
 },
 "nbformat": 4,
 "nbformat_minor": 5
}
