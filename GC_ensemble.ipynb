{
 "cells": [
  {
   "cell_type": "markdown",
   "id": "2c533670",
   "metadata": {},
   "source": [
    "# The grand canonical ensemble\n",
    "\n",
    "\n",
    "Given $H$, $P(\\infty)$ and $\\mu$, calculate\n",
    "$$\n",
    "    P(\\beta) \\approx \\Omega(\\beta)^{\\dagger}\\Omega(\\beta),\n",
    "$$\n",
    "where\n",
    "$$\n",
    "    \\Omega(\\beta) = \\exp(-\\beta \\mathcal{H}_{>}/2) \\left( I - \\frac{1}{2} \\exp(-\\beta \\mathcal{H}_{>}) \n",
    "    \\right) ( I - P(\\infty))\n",
    "    + \n",
    "    \\left( I - \\frac{1}{2} \\exp(\\beta\\mathcal{H}_{<}) \n",
    "    \\right) P(\\infty),\n",
    "$$\n",
    "$$\n",
    "    \\mathcal{H}_{>} = \\frac{1}{2} \\{H-\\mu I, I - P(\\infty)\\}, \\qquad \n",
    "    \\mathcal{H}_{<} = \\frac{1}{2} \\{H-\\mu I, P(\\infty)\\}.\n",
    "$$"
   ]
  },
  {
   "cell_type": "code",
   "execution_count": 1,
   "id": "c740fca3",
   "metadata": {},
   "outputs": [],
   "source": [
    "from scipy.io import mmread\n",
    "import matplotlib.pyplot as plt\n",
    "import numpy as np\n",
    "from scipy.linalg import eigh, norm #, expm"
   ]
  },
  {
   "cell_type": "code",
   "execution_count": 21,
   "id": "092a4f79",
   "metadata": {},
   "outputs": [],
   "source": [
    "beta = 10"
   ]
  },
  {
   "cell_type": "markdown",
   "id": "3f516074",
   "metadata": {},
   "source": [
    "Load matrices in nonorthogonal basis"
   ]
  },
  {
   "cell_type": "code",
   "execution_count": 22,
   "id": "fee2e90d",
   "metadata": {},
   "outputs": [
    {
     "name": "stdout",
     "output_type": "stream",
     "text": [
      "Si108_H.mtx      Si216_H.mtx      Si32_H.mtx       Si64_H.mtx\r\n",
      "Si108_S.mtx      Si216_S.mtx      Si32_S.mtx       Si64_S.mtx\r\n",
      "Si108_meta.yaml  Si216_meta.yaml  Si32_meta.yaml   Si64_meta.yaml\r\n"
     ]
    }
   ],
   "source": [
    "%ls si"
   ]
  },
  {
   "cell_type": "code",
   "execution_count": 4,
   "id": "59f1bc9d",
   "metadata": {},
   "outputs": [],
   "source": [
    "matrices_path = \"si/\"\n",
    "nono_H = mmread(matrices_path + \"Si216_H.mtx\")\n",
    "S = mmread(matrices_path + \"Si216_S.mtx\")"
   ]
  },
  {
   "cell_type": "markdown",
   "id": "1bdf7acd",
   "metadata": {},
   "source": [
    "Orthogonalize the loaded Hamiltonian to get $H$"
   ]
  },
  {
   "cell_type": "code",
   "execution_count": 5,
   "id": "610a0f02",
   "metadata": {},
   "outputs": [],
   "source": [
    "def funm_herm(a, func):\n",
    "    w, v = eigh(a)\n",
    "    w = func(w)\n",
    "    return (v * w) @ v.conj().T\n",
    "\n",
    "isq = funm_herm(S.toarray(), lambda x: -1/np.sqrt(x))\n",
    "\n",
    "H = isq @ nono_H @ isq"
   ]
  },
  {
   "cell_type": "markdown",
   "id": "bdfdb22b",
   "metadata": {},
   "source": [
    "Set chemical potential $\\mu$ at half-filling"
   ]
  },
  {
   "cell_type": "code",
   "execution_count": 6,
   "id": "8b5ced4f",
   "metadata": {},
   "outputs": [],
   "source": [
    "E = eigh(H, eigvals_only=True)\n",
    "nel = E.size\n",
    "mu = E[int(nel/2)-1] + 0.5*(E[int(nel/2)] - E[int(nel/2)-1])"
   ]
  },
  {
   "cell_type": "markdown",
   "id": "9950b1d8",
   "metadata": {},
   "source": [
    "The exact Fermi-Dirac distribution"
   ]
  },
  {
   "cell_type": "code",
   "execution_count": 7,
   "id": "46b65f09",
   "metadata": {},
   "outputs": [],
   "source": [
    "FD_exact = np.exp(-beta * (E - mu)) / (1 + np.exp(-beta * (E - mu)))"
   ]
  },
  {
   "cell_type": "markdown",
   "id": "1c7349ee",
   "metadata": {},
   "source": [
    "Get the zero temperature state "
   ]
  },
  {
   "cell_type": "code",
   "execution_count": 8,
   "id": "2bcfb527",
   "metadata": {},
   "outputs": [],
   "source": [
    "P_infty = funm_herm(H, lambda x: (x < mu))"
   ]
  },
  {
   "cell_type": "code",
   "execution_count": 9,
   "id": "e032f153",
   "metadata": {},
   "outputs": [],
   "source": [
    "assert np.allclose(P_infty, P_infty @ P_infty), \"P_infty is not a projector!\""
   ]
  },
  {
   "cell_type": "markdown",
   "id": "ae14b6a4",
   "metadata": {},
   "source": [
    "## Finding minimum polynomial approximation for $\\exp$ on the interval $[-1, 0]$\n",
    "\n",
    "by minimzing\n",
    "$$\n",
    "    J = J(a, b) = \\int_{-1}^{0} \\left[ \\exp(x) - (a + bx) \\right]^2 dx\n",
    "$$"
   ]
  },
  {
   "cell_type": "code",
   "execution_count": 10,
   "id": "7f1e2060",
   "metadata": {},
   "outputs": [
    {
     "data": {
      "text/latex": [
       "$\\displaystyle 1.48525005776698 \\cdot 10^{-8}$"
      ],
      "text/plain": [
       "1.48525005776698e-8"
      ]
     },
     "execution_count": 10,
     "metadata": {},
     "output_type": "execute_result"
    }
   ],
   "source": [
    "import sympy as sp\n",
    "\n",
    "x, a, b, c, d = sp.symbols('x a b c d')\n",
    "\n",
    "J = sp.integrate((sp.exp(x) -a - b * x - c * x ** 2 -d * x ** 3)**2, (x, -1, 0)).simplify()\n",
    "\n",
    "optimal_solution = sp.solve([\n",
    "    sp.Eq(J.diff(a), 0), sp.Eq(J.diff(b), 0), sp.Eq(J.diff(c), 0), sp.Eq(J.diff(d), 0),\n",
    "])\n",
    "\n",
    "J.subs(optimal_solution).evalf()"
   ]
  },
  {
   "cell_type": "markdown",
   "id": "91c191c6",
   "metadata": {},
   "source": [
    "compare the minimal polynomial and exact result "
   ]
  },
  {
   "cell_type": "code",
   "execution_count": 11,
   "id": "84a17e3f",
   "metadata": {},
   "outputs": [
    {
     "data": {
      "image/png": "[encoded data removed]",
      "text/plain": [
       "<Figure size 640x480 with 1 Axes>"
      ]
     },
     "metadata": {},
     "output_type": "display_data"
    }
   ],
   "source": [
    "min_poly = sp.lambdify(x, (a + b * x + c * x ** 2 + d * x ** 3).subs(optimal_solution), 'numpy')\n",
    "\n",
    "xi = np.linspace(-1, 0, 500) \n",
    "\n",
    "plt.title(\"Checking the accuracy of fitting\")\n",
    "plt.plot(xi, min_poly(xi), label=\"min poly - exp\")\n",
    "plt.plot(xi, np.exp(xi), label=\"exp\")\n",
    "plt.legend()\n",
    "plt.show()"
   ]
  },
  {
   "cell_type": "code",
   "execution_count": 12,
   "id": "fa5c21c1",
   "metadata": {},
   "outputs": [
    {
     "data": {
      "text/plain": [
       "[-464 + 1264*exp(-1),\n",
       " -5760 + 15660*exp(-1),\n",
       " -14700 + 39960*exp(-1),\n",
       " -9940 + 27020*exp(-1)]"
      ]
     },
     "execution_count": 12,
     "metadata": {},
     "output_type": "execute_result"
    }
   ],
   "source": [
    "[sp.simplify(optimal_solution[_]) for _ in [a, b, c, d]]"
   ]
  },
  {
   "cell_type": "markdown",
   "id": "bee36ab9",
   "metadata": {},
   "source": [
    "## Implementing matrix exponentiation via squaring and squaring and minimal polynomial "
   ]
  },
  {
   "cell_type": "code",
   "execution_count": 13,
   "id": "99c61201",
   "metadata": {},
   "outputs": [],
   "source": [
    "def expm_specialized(A):\n",
    "    \n",
    "    # scaling\n",
    "    A_L1 = norm(A, 1)\n",
    "    \n",
    "    maxnorm = 1\n",
    "    n_squarings = max(0, int(np.ceil(np.log2(A_L1 / maxnorm))))\n",
    "    A = A / 2 ** n_squarings\n",
    "    \n",
    "    c = [\n",
    "        -464 + 1264*np.exp(-1),\n",
    "        -5760 + 15660*np.exp(-1),\n",
    "        -14700 + 39960*np.exp(-1),\n",
    "        -9940 + 27020*np.exp(-1)\n",
    "    ]\n",
    "    \n",
    "    I = np.eye(A.shape[0])\n",
    "    \n",
    "    R = c[0] * I  + A @ (c[1] * I + A @ (c[2] * I + A * c[3]))\n",
    "    \n",
    "    # how many matrix multiplications it took to get R\n",
    "    cost_R = 2\n",
    "    \n",
    "    # squaring step to undo scaling\n",
    "    for _ in range(n_squarings):\n",
    "        R = R @ R\n",
    "    \n",
    "    print(f\"It took {cost_R + n_squarings} matrix multiplications to get expm\")\n",
    "    \n",
    "    return R"
   ]
  },
  {
   "cell_type": "code",
   "execution_count": null,
   "id": "88e5d504",
   "metadata": {},
   "outputs": [],
   "source": []
  },
  {
   "cell_type": "code",
   "execution_count": 14,
   "id": "d8d932d1",
   "metadata": {},
   "outputs": [],
   "source": [
    "I = np.eye(H.shape[0])"
   ]
  },
  {
   "cell_type": "markdown",
   "id": "4ccd1cc1",
   "metadata": {},
   "source": [
    "Get $\\mathcal{H}_{>} = \\frac{1}{2} \\{H-\\mu I, I - P(\\infty)\\}$ and its matrix exponent"
   ]
  },
  {
   "cell_type": "code",
   "execution_count": 15,
   "id": "ea479087",
   "metadata": {},
   "outputs": [
    {
     "name": "stdout",
     "output_type": "stream",
     "text": [
      "It took 5 matrix multiplications to get expm\n"
     ]
    }
   ],
   "source": [
    "def anticommut(a, b):\n",
    "    return a @ b + b @ a\n",
    "\n",
    "H_larger = 0.5 * anticommut(H - mu * I, I - P_infty)\n",
    "\n",
    "# exp_half_H_larger = expm(-0.5 * beta * H_larger)\n",
    "exp_half_H_larger = expm_specialized(-0.5 * beta * H_larger)"
   ]
  },
  {
   "cell_type": "markdown",
   "id": "53e5536e",
   "metadata": {},
   "source": [
    "Get $\\mathcal{H}_{<} = \\frac{1}{2} \\{H-\\mu I, P(\\infty)\\}$ and its matrix exponent"
   ]
  },
  {
   "cell_type": "code",
   "execution_count": 16,
   "id": "27dffa95",
   "metadata": {},
   "outputs": [
    {
     "name": "stdout",
     "output_type": "stream",
     "text": [
      "It took 6 matrix multiplications to get expm\n"
     ]
    }
   ],
   "source": [
    "H_less = 0.5 * anticommut(H - mu * I, P_infty)\n",
    "\n",
    "# exp_H_less = expm(beta * H_less)\n",
    "exp_H_less = expm_specialized(beta * H_less)"
   ]
  },
  {
   "cell_type": "code",
   "execution_count": 17,
   "id": "e477ef7b",
   "metadata": {},
   "outputs": [],
   "source": [
    "Omega = exp_half_H_larger @ (I - 0.5 * exp_half_H_larger @ exp_half_H_larger) @ (I - P_infty)\n",
    "Omega += (I - 0.5 * exp_H_less) @ P_infty\n",
    "\n",
    "P_approx = Omega.conj().T @ Omega"
   ]
  },
  {
   "cell_type": "code",
   "execution_count": 20,
   "id": "b297f7ee",
   "metadata": {},
   "outputs": [
    {
     "data": {
      "image/png": "[encoded data removed]",
      "text/plain": [
       "<Figure size 640x480 with 1 Axes>"
      ]
     },
     "metadata": {},
     "output_type": "display_data"
    }
   ],
   "source": [
    "plt.title(f\"Si216: The grand canonical ensemble $\\\\beta = {beta}$\")\n",
    "\n",
    "plt.plot(E, FD_exact, 'ks-', label=\"Exact\")\n",
    "plt.plot(\n",
    "    E,\n",
    "    eigh(P_approx, eigvals_only=True)[::-1],\n",
    "    'r^-',\n",
    "    label=\"via wave operatore\"\n",
    ")\n",
    "plt.axvline(mu, linestyle='--', label=\"$\\mu$\")\n",
    "\n",
    "plt.xlabel(\"Energy\")\n",
    "plt.ylabel(\"Population\")\n",
    "plt.legend(numpoints=1)\n",
    "plt.savefig(f\"results_si_beta={beta}.png\")\n",
    "plt.show()"
   ]
  },
  {
   "cell_type": "code",
   "execution_count": null,
   "id": "f4428390",
   "metadata": {},
   "outputs": [],
   "source": []
  }
 ],
 "metadata": {
  "kernelspec": {
   "display_name": "Python 3 (ipykernel)",
   "language": "python",
   "name": "python3"
  },
  "language_info": {
   "codemirror_mode": {
    "name": "ipython",
    "version": 3
   },
   "file_extension": ".py",
   "mimetype": "text/x-python",
   "name": "python",
   "nbconvert_exporter": "python",
   "pygments_lexer": "ipython3",
   "version": "3.9.16"
  }
 },
 "nbformat": 4,
 "nbformat_minor": 5
}
