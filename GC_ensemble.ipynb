{
 "cells": [
  {
   "cell_type": "markdown",
   "id": "428fe5c8",
   "metadata": {},
   "source": [
    "# The grand canonical ensemble\n",
    "\n",
    "\n",
    "Given $H$, $P(\\infty)$ and $\\mu$, calculate\n",
    "$$\n",
    "    P(\\beta) \\approx \\Omega(\\beta)^{\\dagger}\\Omega(\\beta),\n",
    "$$\n",
    "where\n",
    "$$\n",
    "    \\Omega(\\beta) = e^{-\\frac{\\beta}   {2} \\mathcal{H}_{>}} F\\left( e^{-\\beta \\mathcal{H}_{>}} \n",
    "    \\right) ( I - P(\\infty))\n",
    "    + \n",
    "    F\\left(  e^{\\beta\\mathcal{H}_{<}} \n",
    "    \\right) P(\\infty),\n",
    "$$\n",
    "\n",
    "$$\n",
    "    \\mathcal{H}_{>} = \\frac{1}{2} \\{H-\\mu I, I - P(\\infty)\\}, \\qquad \n",
    "    \\mathcal{H}_{<} = \\frac{1}{2} \\{H-\\mu I, P(\\infty)\\}.\n",
    "$$\n",
    "$$\n",
    "    F(X) \\approx (-576 + 408\\sqrt{2}) I\n",
    "        + (6256 - 4424\\sqrt{2})X \n",
    "        + (-14832 + 10488\\sqrt{2})X^2 \n",
    "        + (9560 - 6760\\sqrt{2})X^3.\n",
    "$$"
   ]
  },
  {
   "cell_type": "code",
   "execution_count": 1,
   "id": "9bdf1c52",
   "metadata": {},
   "outputs": [],
   "source": [
    "from scipy.io import mmread\n",
    "import matplotlib.pyplot as plt\n",
    "import numpy as np\n",
    "from scipy.linalg import eigh, norm "
   ]
  },
  {
   "cell_type": "markdown",
   "id": "b1dd1a0c",
   "metadata": {},
   "source": [
    "#### Counter to count the total number of matrix matrix multiplications"
   ]
  },
  {
   "cell_type": "code",
   "execution_count": 2,
   "id": "16abbe81",
   "metadata": {},
   "outputs": [],
   "source": [
    "n_mtx_mult = 0"
   ]
  },
  {
   "cell_type": "code",
   "execution_count": 3,
   "id": "0a10fd90",
   "metadata": {},
   "outputs": [],
   "source": [
    "beta = 10"
   ]
  },
  {
   "cell_type": "markdown",
   "id": "c1f7f3b5",
   "metadata": {},
   "source": [
    "Load matrices in nonorthogonal basis"
   ]
  },
  {
   "cell_type": "code",
   "execution_count": 4,
   "id": "5f20d240",
   "metadata": {},
   "outputs": [
    {
     "name": "stdout",
     "output_type": "stream",
     "text": [
      "Si108_H.mtx      Si216_H.mtx      Si32_H.mtx       Si64_H.mtx\r\n",
      "Si108_S.mtx      Si216_S.mtx      Si32_S.mtx       Si64_S.mtx\r\n",
      "Si108_meta.yaml  Si216_meta.yaml  Si32_meta.yaml   Si64_meta.yaml\r\n"
     ]
    }
   ],
   "source": [
    "%ls si"
   ]
  },
  {
   "cell_type": "code",
   "execution_count": 5,
   "id": "88870d73",
   "metadata": {},
   "outputs": [],
   "source": [
    "matrices_path = \"al/\"\n",
    "nono_H = mmread(matrices_path + \"Al128_H.mtx\")\n",
    "S = mmread(matrices_path + \"Al128_S.mtx\")\n",
    "\n",
    "# matrices_path = \"si/\"\n",
    "#nono_H = mmread(matrices_path + \"Si216_H.mtx\")\n",
    "#S = mmread(matrices_path + \"Si216_S.mtx\")\n",
    "\n",
    "system = matrices_path.capitalize()[:-1]"
   ]
  },
  {
   "cell_type": "markdown",
   "id": "fa4c90fb",
   "metadata": {},
   "source": [
    "Orthogonalize the loaded Hamiltonian to get $H$"
   ]
  },
  {
   "cell_type": "code",
   "execution_count": 6,
   "id": "26d3f732",
   "metadata": {},
   "outputs": [],
   "source": [
    "def funm_herm(a, func):\n",
    "    w, v = eigh(a)\n",
    "    w = func(w)\n",
    "    return (v * w) @ v.conj().T\n",
    "\n",
    "isq = funm_herm(S.toarray(), lambda x: -1/np.sqrt(x))\n",
    "\n",
    "H = isq @ nono_H @ isq"
   ]
  },
  {
   "cell_type": "markdown",
   "id": "31bdf5a1",
   "metadata": {},
   "source": [
    "Set chemical potential $\\mu$ at half-filling"
   ]
  },
  {
   "cell_type": "code",
   "execution_count": 7,
   "id": "5f6842b6",
   "metadata": {},
   "outputs": [],
   "source": [
    "E = eigh(H, eigvals_only=True)\n",
    "nel = E.size\n",
    "mu = E[int(nel/2)-1] + 0.5*(E[int(nel/2)] - E[int(nel/2)-1])"
   ]
  },
  {
   "cell_type": "markdown",
   "id": "521eff51",
   "metadata": {},
   "source": [
    "The exact Fermi-Dirac distribution"
   ]
  },
  {
   "cell_type": "code",
   "execution_count": 8,
   "id": "dfef0022",
   "metadata": {},
   "outputs": [],
   "source": [
    "FD_exact = np.exp(-beta * (E - mu)) / (1 + np.exp(-beta * (E - mu)))"
   ]
  },
  {
   "cell_type": "markdown",
   "id": "72d0d031",
   "metadata": {},
   "source": [
    "Get the zero temperature state "
   ]
  },
  {
   "cell_type": "code",
   "execution_count": 9,
   "id": "ee08b7c5",
   "metadata": {},
   "outputs": [],
   "source": [
    "P_infty = funm_herm(H, lambda x: (x < mu))"
   ]
  },
  {
   "cell_type": "code",
   "execution_count": 10,
   "id": "62919c08",
   "metadata": {},
   "outputs": [],
   "source": [
    "assert np.allclose(P_infty, P_infty @ P_infty), \"P_infty is not a projector!\""
   ]
  },
  {
   "cell_type": "markdown",
   "id": "8f506a1d",
   "metadata": {},
   "source": [
    "## Finding minimum polynomial approximation for $\\exp$ on the interval $[-1, 0]$\n",
    "\n",
    "by minimzing\n",
    "$$\n",
    "    J = J(a, b, c, d) = \\int_{-1}^{0} \\left[ \\exp(x) - (a + bx + cx^2 + dx^3) \\right]^2 dx\n",
    "$$"
   ]
  },
  {
   "cell_type": "code",
   "execution_count": 11,
   "id": "2a5e399f",
   "metadata": {},
   "outputs": [
    {
     "data": {
      "text/latex": [
       "$\\displaystyle 1.48525005776698 \\cdot 10^{-8}$"
      ],
      "text/plain": [
       "1.48525005776698e-8"
      ]
     },
     "execution_count": 11,
     "metadata": {},
     "output_type": "execute_result"
    }
   ],
   "source": [
    "import sympy as sp\n",
    "\n",
    "x, a, b, c, d = sp.symbols('x a b c d')\n",
    "\n",
    "J = sp.integrate((sp.exp(x) -a - b * x - c * x ** 2 -d * x ** 3)**2, (x, -1, 0)).simplify()\n",
    "\n",
    "optimal_solution = sp.solve([\n",
    "    sp.Eq(J.diff(a), 0), sp.Eq(J.diff(b), 0), sp.Eq(J.diff(c), 0), sp.Eq(J.diff(d), 0),\n",
    "])\n",
    "\n",
    "J.subs(optimal_solution).evalf()"
   ]
  },
  {
   "cell_type": "markdown",
   "id": "f0ed08ca",
   "metadata": {},
   "source": [
    "compare the minimal polynomial and exact result "
   ]
  },
  {
   "cell_type": "code",
   "execution_count": 12,
   "id": "d0f96931",
   "metadata": {},
   "outputs": [
    {
     "data": {
      "image/png": "[encoded data removed]",
      "text/plain": [
       "<Figure size 640x480 with 1 Axes>"
      ]
     },
     "metadata": {},
     "output_type": "display_data"
    }
   ],
   "source": [
    "min_poly = sp.lambdify(x, (a + b * x + c * x ** 2 + d * x ** 3).subs(optimal_solution), 'numpy')\n",
    "\n",
    "xi = np.linspace(-1, 0, 500) \n",
    "\n",
    "plt.title(\"Checking the accuracy of fitting\")\n",
    "plt.plot(xi, min_poly(xi), label=\"min poly - exp\")\n",
    "plt.plot(xi, np.exp(xi), label=\"exp\")\n",
    "plt.legend()\n",
    "plt.show()"
   ]
  },
  {
   "cell_type": "code",
   "execution_count": 13,
   "id": "027e6d14",
   "metadata": {},
   "outputs": [
    {
     "data": {
      "text/plain": [
       "[-464 + 1264*exp(-1),\n",
       " -5760 + 15660*exp(-1),\n",
       " -14700 + 39960*exp(-1),\n",
       " -9940 + 27020*exp(-1)]"
      ]
     },
     "execution_count": 13,
     "metadata": {},
     "output_type": "execute_result"
    }
   ],
   "source": [
    "[sp.simplify(optimal_solution[_]) for _ in [a, b, c, d]]"
   ]
  },
  {
   "cell_type": "markdown",
   "id": "733acaaa",
   "metadata": {},
   "source": [
    "## Implementing matrix exponentiation via squaring and squaring and minimal polynomial "
   ]
  },
  {
   "cell_type": "code",
   "execution_count": 14,
   "id": "bb71c258",
   "metadata": {},
   "outputs": [],
   "source": [
    "def expm_specialized(A):\n",
    "    \n",
    "    # scaling\n",
    "    A_L1 = norm(A, 1)\n",
    "    \n",
    "    maxnorm = 1\n",
    "    n_squarings = max(0, int(np.ceil(np.log2(A_L1 / maxnorm))))\n",
    "    A = A / 2 ** n_squarings\n",
    "    \n",
    "    c = [\n",
    "        -464 + 1264*np.exp(-1),\n",
    "        -5760 + 15660*np.exp(-1),\n",
    "        -14700 + 39960*np.exp(-1),\n",
    "        -9940 + 27020*np.exp(-1)\n",
    "    ]\n",
    "    \n",
    "    I = np.eye(A.shape[0])\n",
    "    \n",
    "    R = c[0] * I  + A @ (c[1] * I + A @ (c[2] * I + A * c[3]))\n",
    "    \n",
    "    # how many matrix multiplications it took to get R\n",
    "    cost_R = len(c) - 2\n",
    "    \n",
    "    # squaring step to undo scaling\n",
    "    for _ in range(n_squarings):\n",
    "        R = R @ R\n",
    "    \n",
    "    print(f\"It took {cost_R + n_squarings} matrix multiplications to get expm\")\n",
    "    \n",
    "    # Update the number of matrix-matrix multiplications\n",
    "    global n_mtx_mult\n",
    "    n_mtx_mult += cost_R + n_squarings\n",
    "    \n",
    "    return R"
   ]
  },
  {
   "cell_type": "code",
   "execution_count": null,
   "id": "682aadd5",
   "metadata": {},
   "outputs": [],
   "source": []
  },
  {
   "cell_type": "markdown",
   "id": "02aa9621",
   "metadata": {},
   "source": [
    "## Continue calculations"
   ]
  },
  {
   "cell_type": "code",
   "execution_count": 15,
   "id": "71a23880",
   "metadata": {},
   "outputs": [],
   "source": [
    "I = np.eye(H.shape[0])"
   ]
  },
  {
   "cell_type": "markdown",
   "id": "4d266d07",
   "metadata": {},
   "source": [
    "Get $\\mathcal{H}_{>} = \\frac{1}{2} \\{H-\\mu I, I - P(\\infty)\\}$ and its matrix exponent"
   ]
  },
  {
   "cell_type": "code",
   "execution_count": 16,
   "id": "44548867",
   "metadata": {},
   "outputs": [
    {
     "name": "stdout",
     "output_type": "stream",
     "text": [
      "It took 6 matrix multiplications to get expm\n"
     ]
    }
   ],
   "source": [
    "def anticommut(a, b):\n",
    "    \n",
    "    # Update the number of matrix-matrix multiplications\n",
    "    global n_mtx_mult\n",
    "    n_mtx_mult += 1\n",
    "    \n",
    "    temp = a @ b\n",
    "    return temp + temp.conj().T\n",
    "    # return a @ b + b @ a\n",
    "\n",
    "H_larger = 0.5 * anticommut(H - mu * I, I - P_infty)\n",
    "\n",
    "exp_half_H_larger = expm_specialized(-0.5 * beta * H_larger)"
   ]
  },
  {
   "cell_type": "markdown",
   "id": "e7981c38",
   "metadata": {},
   "source": [
    "Get $\\mathcal{H}_{<} = \\frac{1}{2} \\{H-\\mu I, P(\\infty)\\}$ and its matrix exponent"
   ]
  },
  {
   "cell_type": "code",
   "execution_count": 17,
   "id": "f5e2d225",
   "metadata": {},
   "outputs": [
    {
     "name": "stdout",
     "output_type": "stream",
     "text": [
      "It took 7 matrix multiplications to get expm\n"
     ]
    }
   ],
   "source": [
    "H_less = 0.5 * anticommut(H - mu * I, P_infty)\n",
    "\n",
    "exp_H_less = expm_specialized(beta * H_less)"
   ]
  },
  {
   "cell_type": "markdown",
   "id": "482788bb",
   "metadata": {},
   "source": [
    "## Constructing the minimum polynomial for $F(x)= (1 + x)^{-1/2}$ for $0 \\leq x \\leq 1$"
   ]
  },
  {
   "cell_type": "code",
   "execution_count": 18,
   "id": "80df600d",
   "metadata": {},
   "outputs": [
    {
     "data": {
      "text/latex": [
       "$\\displaystyle 5.8674873360522 \\cdot 10^{-8}$"
      ],
      "text/plain": [
       "5.86748733605220e-8"
      ]
     },
     "execution_count": 18,
     "metadata": {},
     "output_type": "execute_result"
    }
   ],
   "source": [
    "J = sp.integrate((1 / sp.sqrt(1 + x)  -a - b * x - c * x ** 2 -d * x ** 3)**2, (x, 0, 1)).simplify()\n",
    "\n",
    "optimal_solution = sp.solve([\n",
    "    sp.Eq(J.diff(a), 0), sp.Eq(J.diff(b), 0), sp.Eq(J.diff(c), 0), sp.Eq(J.diff(d), 0),\n",
    "])\n",
    "\n",
    "J.subs(optimal_solution).simplify().evalf()"
   ]
  },
  {
   "cell_type": "code",
   "execution_count": 19,
   "id": "1d6bb97f",
   "metadata": {},
   "outputs": [
    {
     "data": {
      "text/plain": [
       "[-576 + 408*sqrt(2),\n",
       " 6256 - 4424*sqrt(2),\n",
       " -14832 + 10488*sqrt(2),\n",
       " 9560 - 6760*sqrt(2)]"
      ]
     },
     "execution_count": 19,
     "metadata": {},
     "output_type": "execute_result"
    }
   ],
   "source": [
    "[sp.simplify(optimal_solution[_]) for _ in [a, b, c, d]]"
   ]
  },
  {
   "cell_type": "code",
   "execution_count": 20,
   "id": "e746399d",
   "metadata": {},
   "outputs": [
    {
     "data": {
      "image/png": "[encoded data removed]",
      "text/plain": [
       "<Figure size 640x480 with 1 Axes>"
      ]
     },
     "metadata": {},
     "output_type": "display_data"
    }
   ],
   "source": [
    "min_poly = sp.lambdify(x, (a + b * x + c * x ** 2 + d * x ** 3).subs(optimal_solution), 'numpy')\n",
    "\n",
    "xi = np.linspace(0, 1, 500) \n",
    "\n",
    "plt.title(\"Checking the accuracy of fitting\")\n",
    "plt.plot(xi, min_poly(xi), label=\"min poly for $(1 + x)^{-1/2}$\")\n",
    "plt.plot(xi, 1 / np.sqrt(1 + xi), label=\"$(1 + x)^{-1/2}$\")\n",
    "plt.legend()\n",
    "plt.show()"
   ]
  },
  {
   "cell_type": "code",
   "execution_count": 21,
   "id": "dd079e63",
   "metadata": {},
   "outputs": [],
   "source": [
    "def Fm(A):\n",
    "    \n",
    "    c = [\n",
    "        -576 + 408*np.sqrt(2),\n",
    "         6256 - 4424*np.sqrt(2),\n",
    "         -14832 + 10488*np.sqrt(2),\n",
    "         9560 - 6760*np.sqrt(2)\n",
    "    ]\n",
    "    \n",
    "    I = np.eye(A.shape[0])\n",
    "    \n",
    "    R = c[0] * I  + A @ (c[1] * I + A @ (c[2] * I + A * c[3]))\n",
    "    \n",
    "    # how many matrix multiplications it took to get R\n",
    "    cost_R = len(c) - 2\n",
    "\n",
    "    print(f\"It took {cost_R} matrix multiplications to get (1 + x) ** -1/2\")\n",
    "    \n",
    "    # Update the number of matrix-matrix multiplications\n",
    "    global n_mtx_mult\n",
    "    n_mtx_mult += cost_R\n",
    "    \n",
    "    return R"
   ]
  },
  {
   "cell_type": "markdown",
   "id": "13eca45b",
   "metadata": {},
   "source": [
    "## Getting $\\Omega(\\beta)$ and $P(\\beta)$"
   ]
  },
  {
   "cell_type": "code",
   "execution_count": 22,
   "id": "3e2119e2",
   "metadata": {},
   "outputs": [
    {
     "name": "stdout",
     "output_type": "stream",
     "text": [
      "It took 2 matrix multiplications to get (1 + x) ** -1/2\n",
      "It took 2 matrix multiplications to get (1 + x) ** -1/2\n"
     ]
    }
   ],
   "source": [
    "Omega = exp_half_H_larger @ Fm(exp_half_H_larger @ exp_half_H_larger) @ (I - P_infty)\n",
    "Omega += Fm(exp_H_less) @ P_infty\n",
    "\n",
    "P_approx = Omega.conj().T @ Omega\n",
    "\n",
    "# Update the number of matrix-matrix multiplications\n",
    "n_mtx_mult += 5"
   ]
  },
  {
   "cell_type": "code",
   "execution_count": 23,
   "id": "9ad93ef8",
   "metadata": {},
   "outputs": [
    {
     "data": {
      "image/png": "[encoded data removed]",
      "text/plain": [
       "<Figure size 640x480 with 1 Axes>"
      ]
     },
     "metadata": {},
     "output_type": "display_data"
    }
   ],
   "source": [
    "plt.title(f\"{system}: The grand canonical ensemble $\\\\beta = {beta}$\")\n",
    "\n",
    "plt.plot(E, FD_exact, 'ks-', label=\"Exact\")\n",
    "plt.plot(\n",
    "    E,\n",
    "    eigh(P_approx, eigvals_only=True)[::-1],\n",
    "    'r^-',\n",
    "    label=\"via wave operatore\"\n",
    ")\n",
    "plt.axvline(mu, linestyle='--', label=\"$\\mu$\")\n",
    "\n",
    "plt.xlabel(\"Energy\")\n",
    "plt.ylabel(\"Population\")\n",
    "plt.legend(numpoints=1)\n",
    "plt.savefig(f\"results_{system}_beta={beta}.png\")\n",
    "plt.show()"
   ]
  },
  {
   "cell_type": "markdown",
   "id": "674cf132",
   "metadata": {},
   "source": [
    "#### Total number matrix-matrix multiplications"
   ]
  },
  {
   "cell_type": "code",
   "execution_count": 24,
   "id": "ee191bc3",
   "metadata": {},
   "outputs": [
    {
     "data": {
      "text/plain": [
       "24"
      ]
     },
     "execution_count": 24,
     "metadata": {},
     "output_type": "execute_result"
    }
   ],
   "source": [
    "n_mtx_mult"
   ]
  }
 ],
 "metadata": {
  "kernelspec": {
   "display_name": "Python 3 (ipykernel)",
   "language": "python",
   "name": "python3"
  },
  "language_info": {
   "codemirror_mode": {
    "name": "ipython",
    "version": 3
   },
   "file_extension": ".py",
   "mimetype": "text/x-python",
   "name": "python",
   "nbconvert_exporter": "python",
   "pygments_lexer": "ipython3",
   "version": "3.9.16"
  }
 },
 "nbformat": 4,
 "nbformat_minor": 5
}
