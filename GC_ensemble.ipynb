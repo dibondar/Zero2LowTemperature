{
 "cells": [
  {
   "cell_type": "markdown",
   "id": "bfa1cb22",
   "metadata": {},
   "source": [
    "# The grand canonical ensemble\n",
    "\n",
    "\n",
    "Given $H$, $P(\\infty)$ and $\\mu$, calculate\n",
    "$$\n",
    "    P(\\beta) \\approx \\Omega(\\beta)^{\\dagger}\\Omega(\\beta),\n",
    "$$\n",
    "where\n",
    "$$\n",
    "    \\Omega(\\beta) = \\exp(-\\beta \\mathcal{H}_{>}/2) \\left( I - \\frac{1}{2} \\exp(-\\beta \\mathcal{H}_{>}) \n",
    "    \\right) ( I - P(\\infty))\n",
    "    + \n",
    "    \\left( I - \\frac{1}{2} \\exp(\\beta\\mathcal{H}_{<}) \n",
    "    \\right) P(\\infty),\n",
    "$$\n",
    "$$\n",
    "    \\mathcal{H}_{>} = \\frac{1}{2} \\{H-\\mu I, I - P(\\infty)\\}, \\qquad \n",
    "    \\mathcal{H}_{<} = \\frac{1}{2} \\{H-\\mu I, P(\\infty)\\}.\n",
    "$$"
   ]
  },
  {
   "cell_type": "code",
   "execution_count": 1,
   "id": "19e7ea72",
   "metadata": {},
   "outputs": [],
   "source": [
    "from scipy.io import mmread\n",
    "import matplotlib.pyplot as plt\n",
    "import numpy as np\n",
    "from scipy.linalg import eigh, expm"
   ]
  },
  {
   "cell_type": "code",
   "execution_count": 2,
   "id": "6230f14b",
   "metadata": {},
   "outputs": [],
   "source": [
    "beta = 10"
   ]
  },
  {
   "cell_type": "markdown",
   "id": "7ac2464a",
   "metadata": {},
   "source": [
    "Load matrices in nonorthogonal basis"
   ]
  },
  {
   "cell_type": "code",
   "execution_count": 3,
   "id": "8dd3adeb",
   "metadata": {},
   "outputs": [
    {
     "name": "stdout",
     "output_type": "stream",
     "text": [
      "Si108_H.mtx      Si216_H.mtx      Si32_H.mtx       Si64_H.mtx\r\n",
      "Si108_S.mtx      Si216_S.mtx      Si32_S.mtx       Si64_S.mtx\r\n",
      "Si108_meta.yaml  Si216_meta.yaml  Si32_meta.yaml   Si64_meta.yaml\r\n"
     ]
    }
   ],
   "source": [
    "%ls si"
   ]
  },
  {
   "cell_type": "code",
   "execution_count": 4,
   "id": "ad8453da",
   "metadata": {},
   "outputs": [],
   "source": [
    "matrices_path = \"si/\"\n",
    "nono_H = mmread(matrices_path + \"Si216_H.mtx\")\n",
    "S = mmread(matrices_path + \"Si216_S.mtx\")"
   ]
  },
  {
   "cell_type": "markdown",
   "id": "14fa4ea9",
   "metadata": {},
   "source": [
    "Orthogonalize the loaded Hamiltonian to get $H$"
   ]
  },
  {
   "cell_type": "code",
   "execution_count": 5,
   "id": "2ff5ae4d",
   "metadata": {},
   "outputs": [],
   "source": [
    "def funm_herm(a, func):\n",
    "    w, v = eigh(a)\n",
    "    w = func(w)\n",
    "    return (v * w) @ v.conj().T\n",
    "\n",
    "isq = funm_herm(S.toarray(), lambda x: -1/np.sqrt(x))\n",
    "\n",
    "H = isq @ nono_H @ isq"
   ]
  },
  {
   "cell_type": "markdown",
   "id": "609d07e4",
   "metadata": {},
   "source": [
    "Set chemical potential $\\mu$ at half-filling"
   ]
  },
  {
   "cell_type": "code",
   "execution_count": 6,
   "id": "27926d1e",
   "metadata": {},
   "outputs": [],
   "source": [
    "E = eigh(H, eigvals_only=True)\n",
    "nel = E.size\n",
    "mu = E[int(nel/2)-1] + 0.5*(E[int(nel/2)] - E[int(nel/2)-1])"
   ]
  },
  {
   "cell_type": "markdown",
   "id": "18ae7eed",
   "metadata": {},
   "source": [
    "The exact Fermi-Dirac distribution"
   ]
  },
  {
   "cell_type": "code",
   "execution_count": 7,
   "id": "5c979b9c",
   "metadata": {},
   "outputs": [],
   "source": [
    "FD_exact = np.exp(-beta * (E - mu)) / (1 + np.exp(-beta * (E - mu)))"
   ]
  },
  {
   "cell_type": "markdown",
   "id": "be7c464b",
   "metadata": {},
   "source": [
    "Get the zero temperature state "
   ]
  },
  {
   "cell_type": "code",
   "execution_count": 8,
   "id": "1a52e48a",
   "metadata": {},
   "outputs": [],
   "source": [
    "P_infty = funm_herm(H, lambda x: (x < mu))"
   ]
  },
  {
   "cell_type": "code",
   "execution_count": 9,
   "id": "d7a8bc93",
   "metadata": {},
   "outputs": [],
   "source": [
    "assert np.allclose(P_infty, P_infty @ P_infty), \"P_infty is not a projector!\""
   ]
  },
  {
   "cell_type": "code",
   "execution_count": 10,
   "id": "363c1039",
   "metadata": {},
   "outputs": [],
   "source": [
    "I = np.eye(H.shape[0])"
   ]
  },
  {
   "cell_type": "markdown",
   "id": "d58607d0",
   "metadata": {},
   "source": [
    "Get $\\mathcal{H}_{>} = \\frac{1}{2} \\{H-\\mu I, I - P(\\infty)\\}$ and its matrix exponent"
   ]
  },
  {
   "cell_type": "code",
   "execution_count": 11,
   "id": "e1db3a66",
   "metadata": {},
   "outputs": [],
   "source": [
    "def anticommut(a, b):\n",
    "    return a @ b + b @ a\n",
    "\n",
    "H_larger = 0.5 * anticommut(H - mu * I, I - P_infty)\n",
    "\n",
    "exp_half_H_larger = expm(-0.5 * beta * H_larger)"
   ]
  },
  {
   "cell_type": "markdown",
   "id": "22cb2bc2",
   "metadata": {},
   "source": [
    "Get $\\mathcal{H}_{<} = \\frac{1}{2} \\{H-\\mu I, P(\\infty)\\}$ and its matrix exponent"
   ]
  },
  {
   "cell_type": "code",
   "execution_count": 12,
   "id": "bcae58f1",
   "metadata": {},
   "outputs": [],
   "source": [
    "H_less = 0.5 * anticommut(H - mu * I, P_infty)\n",
    "exp_H_less = expm(beta * H_less)"
   ]
  },
  {
   "cell_type": "code",
   "execution_count": 13,
   "id": "ebeefd47",
   "metadata": {},
   "outputs": [],
   "source": [
    "Omega = exp_half_H_larger @ (I - 0.5 * exp_half_H_larger @ exp_half_H_larger) @ (I - P_infty)\n",
    "Omega += (I - 0.5 * exp_H_less) @ P_infty\n",
    "\n",
    "P_approx = Omega.conj().T @ Omega"
   ]
  },
  {
   "cell_type": "code",
   "execution_count": 15,
   "id": "7e5aef59",
   "metadata": {},
   "outputs": [
    {
     "data": {
      "image/png": "[encoded data removed]",
      "text/plain": [
       "<Figure size 640x480 with 1 Axes>"
      ]
     },
     "metadata": {},
     "output_type": "display_data"
    }
   ],
   "source": [
    "plt.title(f\"Si216: The grand canonical ensemble $\\\\beta = {beta}$\")\n",
    "\n",
    "plt.plot(E, FD_exact, 'ks-', label=\"Exact\")\n",
    "plt.plot(\n",
    "    E,\n",
    "    eigh(P_approx, eigvals_only=True)[::-1],\n",
    "    'r^-',\n",
    "    label=\"via wave operatore\"\n",
    ")\n",
    "plt.axvline(mu, linestyle='--', label=\"$\\mu$\")\n",
    "\n",
    "plt.xlabel(\"Energy\")\n",
    "plt.ylabel(\"Population\")\n",
    "plt.legend(numpoints=1)\n",
    "plt.savefig(\"results_si_beta=10.png\")\n",
    "plt.show()"
   ]
  },
  {
   "cell_type": "code",
   "execution_count": null,
   "id": "c643e6bc",
   "metadata": {},
   "outputs": [],
   "source": []
  }
 ],
 "metadata": {
  "kernelspec": {
   "display_name": "Python 3 (ipykernel)",
   "language": "python",
   "name": "python3"
  },
  "language_info": {
   "codemirror_mode": {
    "name": "ipython",
    "version": 3
   },
   "file_extension": ".py",
   "mimetype": "text/x-python",
   "name": "python",
   "nbconvert_exporter": "python",
   "pygments_lexer": "ipython3",
   "version": "3.9.16"
  }
 },
 "nbformat": 4,
 "nbformat_minor": 5
}
