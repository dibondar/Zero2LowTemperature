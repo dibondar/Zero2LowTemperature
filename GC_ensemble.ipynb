{
 "cells": [
  {
   "cell_type": "markdown",
   "id": "428fe5c8",
   "metadata": {},
   "source": [
    "# The grand canonical ensemble\n",
    "\n",
    "\n",
    "Given $H$, $P(\\infty)$ and $\\mu$, calculate\n",
    "$$\n",
    "    P(\\beta) \\approx \\Omega(\\beta)^{\\dagger}\\Omega(\\beta),\n",
    "$$\n",
    "where\n",
    "$$\n",
    "    \\Omega(\\beta) = e^{-\\frac{\\beta}   {2} \\mathcal{H}_{>}} F\\left( e^{-\\beta \\mathcal{H}_{>}} \n",
    "    \\right) ( I - P(\\infty))\n",
    "    + \n",
    "    F\\left(  e^{\\beta\\mathcal{H}_{<}} \n",
    "    \\right) P(\\infty),\n",
    "$$\n",
    "\n",
    "$$\n",
    "    \\mathcal{H}_{>} = \\frac{1}{2} \\{H-\\mu I, I - P(\\infty)\\}, \\qquad \n",
    "    \\mathcal{H}_{<} = \\frac{1}{2} \\{H-\\mu I, P(\\infty)\\}.\n",
    "$$\n",
    "$$\n",
    "    F(X) \\approx (-576 + 408\\sqrt{2}) I\n",
    "        + (6256 - 4424\\sqrt{2})X \n",
    "        + (-14832 + 10488\\sqrt{2})X^2 \n",
    "        + (9560 - 6760\\sqrt{2})X^3.\n",
    "$$"
   ]
  },
  {
   "cell_type": "code",
   "execution_count": 1,
   "id": "9bdf1c52",
   "metadata": {},
   "outputs": [],
   "source": [
    "from scipy.io import mmread\n",
    "import matplotlib.pyplot as plt\n",
    "import numpy as np\n",
    "from scipy.linalg import eigh, norm "
   ]
  },
  {
   "cell_type": "markdown",
   "id": "af95a539",
   "metadata": {},
   "source": [
    "#### Counter to count the total number of matrix matrix multiplications"
   ]
  },
  {
   "cell_type": "code",
   "execution_count": 2,
   "id": "a31908a8",
   "metadata": {},
   "outputs": [],
   "source": [
    "n_mtx_mult = 0"
   ]
  },
  {
   "cell_type": "code",
   "execution_count": 3,
   "id": "0a10fd90",
   "metadata": {},
   "outputs": [],
   "source": [
    "beta = 10"
   ]
  },
  {
   "cell_type": "markdown",
   "id": "c1f7f3b5",
   "metadata": {},
   "source": [
    "Load matrices in nonorthogonal basis"
   ]
  },
  {
   "cell_type": "code",
   "execution_count": 4,
   "id": "5f20d240",
   "metadata": {},
   "outputs": [
    {
     "name": "stdout",
     "output_type": "stream",
     "text": [
      "Al128_H.mtx      Al250_meta.yaml  Si108_meta.yaml  Si32_meta.yaml\r\n",
      "Al128_S.mtx      Al54_H.mtx       Si216_H.mtx      Si64_H.mtx\r\n",
      "Al128_meta.yaml  Al54_S.mtx       Si216_S.mtx      Si64_S.mtx\r\n",
      "Al16_H.mtx       Al54_meta.yaml   Si216_meta.yaml  Si64_meta.yaml\r\n",
      "Al16_S.mtx       Si108_H.mtx      Si32_H.mtx\r\n",
      "Al16_meta.yaml   Si108_S.mtx      Si32_S.mtx\r\n"
     ]
    }
   ],
   "source": [
    "%ls data"
   ]
  },
  {
   "cell_type": "code",
   "execution_count": 5,
   "id": "88870d73",
   "metadata": {},
   "outputs": [],
   "source": [
    "matrices_path = \"al/\"\n",
    "nono_H = mmread(matrices_path + \"Al128_H.mtx\")\n",
    "S = mmread(matrices_path + \"Al128_S.mtx\")\n",
    "\n",
    "data = \"data\"\n",
    "geom = \"Al128\"\n",
    "\n",
    "H = mmread(f\"{data}/{geom}_H.mtx\")\n",
    "S = mmread(f\"{data}/{geom}_S.mtx\")"
   ]
  },
  {
   "cell_type": "markdown",
   "id": "fa4c90fb",
   "metadata": {},
   "source": [
    "Orthogonalize the loaded Hamiltonian to get $H$"
   ]
  },
  {
   "cell_type": "code",
   "execution_count": 6,
   "id": "26d3f732",
   "metadata": {},
   "outputs": [],
   "source": [
    "def funm_herm(a, func):\n",
    "    w, v = eigh(a)\n",
    "    w = func(w)\n",
    "    return (v * w) @ v.conj().T\n",
    "\n",
    "isq = funm_herm(S.toarray(), lambda x: -1/np.sqrt(x))\n",
    "\n",
    "H = isq @ nono_H @ isq"
   ]
  },
  {
   "cell_type": "markdown",
   "id": "31bdf5a1",
   "metadata": {},
   "source": [
    "Set chemical potential $\\mu$ at half-filling"
   ]
  },
  {
   "cell_type": "code",
   "execution_count": 7,
   "id": "5f6842b6",
   "metadata": {},
   "outputs": [],
   "source": [
    "E = eigh(H, eigvals_only=True)\n",
    "nel = E.size\n",
    "mu = E[int(nel/2)-1] + 0.5*(E[int(nel/2)] - E[int(nel/2)-1])"
   ]
  },
  {
   "cell_type": "markdown",
   "id": "521eff51",
   "metadata": {},
   "source": [
    "The exact Fermi-Dirac distribution"
   ]
  },
  {
   "cell_type": "code",
   "execution_count": 8,
   "id": "dfef0022",
   "metadata": {},
   "outputs": [],
   "source": [
    "FD_exact = np.exp(-beta * (E - mu)) / (1 + np.exp(-beta * (E - mu)))"
   ]
  },
  {
   "cell_type": "markdown",
   "id": "72d0d031",
   "metadata": {},
   "source": [
    "Get the zero temperature state "
   ]
  },
  {
   "cell_type": "code",
   "execution_count": 9,
   "id": "ee08b7c5",
   "metadata": {},
   "outputs": [],
   "source": [
    "P_infty = funm_herm(H, lambda x: (x < mu))"
   ]
  },
  {
   "cell_type": "code",
   "execution_count": 10,
   "id": "62919c08",
   "metadata": {},
   "outputs": [],
   "source": [
    "assert np.allclose(P_infty, P_infty @ P_infty), \"P_infty is not a projector!\""
   ]
  },
  {
   "cell_type": "markdown",
   "id": "733acaaa",
   "metadata": {},
   "source": [
    "## Implementing matrix exponentiation via squaring and squaring and minimal polynomial "
   ]
  },
  {
   "cell_type": "code",
   "execution_count": 11,
   "id": "bb71c258",
   "metadata": {},
   "outputs": [],
   "source": [
    "def expm_specialized(A):\n",
    "    \n",
    "    # scaling\n",
    "    A_L1 = norm(A, 1)\n",
    "    \n",
    "    maxnorm = 1\n",
    "    n_squarings = max(0, int(np.ceil(np.log2(A_L1 / maxnorm))))\n",
    "    A = A / 2 ** n_squarings\n",
    "    \n",
    "    c = [\n",
    "        -464 + 1264*np.exp(-1),\n",
    "        -5760 + 15660*np.exp(-1),\n",
    "        -14700 + 39960*np.exp(-1),\n",
    "        -9940 + 27020*np.exp(-1)\n",
    "    ]\n",
    "    \n",
    "    # how many matrix multiplications it takes to get R\n",
    "    cost_R = len(c) - 2\n",
    "    \n",
    "    I = np.eye(A.shape[0])\n",
    "    \n",
    "    R = A * c.pop() + I * c.pop()\n",
    "    \n",
    "    while c:\n",
    "        R = c.pop() * I + A @ R\n",
    "    \n",
    "    # squaring step to undo scaling\n",
    "    for _ in range(n_squarings):\n",
    "        R = R @ R\n",
    "    \n",
    "    print(f\"It took {cost_R + n_squarings} matrix multiplications to get expm\")\n",
    "    \n",
    "    # Update the number of matrix-matrix multiplications\n",
    "    global n_mtx_mult\n",
    "    n_mtx_mult += cost_R + n_squarings\n",
    "    \n",
    "    return R"
   ]
  },
  {
   "cell_type": "code",
   "execution_count": 12,
   "id": "71a23880",
   "metadata": {},
   "outputs": [],
   "source": [
    "I = np.eye(H.shape[0])"
   ]
  },
  {
   "cell_type": "markdown",
   "id": "4d266d07",
   "metadata": {},
   "source": [
    "Get $\\mathcal{H}_{>} = \\frac{1}{2} \\{H-\\mu I, I - P(\\infty)\\}$ and its matrix exponent"
   ]
  },
  {
   "cell_type": "code",
   "execution_count": 13,
   "id": "44548867",
   "metadata": {},
   "outputs": [
    {
     "name": "stdout",
     "output_type": "stream",
     "text": [
      "It took 6 matrix multiplications to get expm\n"
     ]
    }
   ],
   "source": [
    "def anticommut(a, b):\n",
    "    \n",
    "    # Update the number of matrix-matrix multiplications\n",
    "    global n_mtx_mult\n",
    "    n_mtx_mult += 1\n",
    "    \n",
    "    temp = a @ b\n",
    "    return temp + temp.conj().T\n",
    "    # return a @ b + b @ a\n",
    "\n",
    "H_larger = 0.5 * anticommut(H - mu * I, I - P_infty)\n",
    "\n",
    "exp_half_H_larger = expm_specialized(-0.5 * beta * H_larger)"
   ]
  },
  {
   "cell_type": "markdown",
   "id": "e7981c38",
   "metadata": {},
   "source": [
    "Get $\\mathcal{H}_{<} = \\frac{1}{2} \\{H-\\mu I, P(\\infty)\\}$ and its matrix exponent"
   ]
  },
  {
   "cell_type": "code",
   "execution_count": 14,
   "id": "f5e2d225",
   "metadata": {},
   "outputs": [
    {
     "name": "stdout",
     "output_type": "stream",
     "text": [
      "It took 7 matrix multiplications to get expm\n"
     ]
    }
   ],
   "source": [
    "H_less = 0.5 * anticommut(H - mu * I, P_infty)\n",
    "\n",
    "exp_H_less = expm_specialized(beta * H_less)"
   ]
  },
  {
   "cell_type": "code",
   "execution_count": 15,
   "id": "35753489",
   "metadata": {},
   "outputs": [],
   "source": [
    "def Fm(A):\n",
    "    \n",
    "    c = [\n",
    "        -576 + 408*np.sqrt(2),\n",
    "         6256 - 4424*np.sqrt(2),\n",
    "         -14832 + 10488*np.sqrt(2),\n",
    "         9560 - 6760*np.sqrt(2)\n",
    "    ]\n",
    "    \n",
    "    # how many matrix multiplications it takes to get R\n",
    "    cost_R = len(c) - 2\n",
    "    \n",
    "    I = np.eye(A.shape[0])\n",
    "    \n",
    "    R = A * c.pop() + I * c.pop()\n",
    "    \n",
    "    while c:\n",
    "        R = c.pop() * I + A @ R\n",
    "    \n",
    "    print(f\"It took {cost_R} matrix multiplications to get (1 + x) ** -1/2\")\n",
    "    \n",
    "    # Update the number of matrix-matrix multiplications\n",
    "    global n_mtx_mult\n",
    "    n_mtx_mult += cost_R\n",
    "    \n",
    "    return R"
   ]
  },
  {
   "cell_type": "markdown",
   "id": "b0f2c1f4",
   "metadata": {},
   "source": [
    "## Getting $\\Omega(\\beta)$ and $P(\\beta)$"
   ]
  },
  {
   "cell_type": "code",
   "execution_count": 16,
   "id": "3e2119e2",
   "metadata": {},
   "outputs": [
    {
     "name": "stdout",
     "output_type": "stream",
     "text": [
      "It took 2 matrix multiplications to get (1 + x) ** -1/2\n",
      "It took 2 matrix multiplications to get (1 + x) ** -1/2\n"
     ]
    }
   ],
   "source": [
    "Omega = exp_half_H_larger @ Fm(exp_half_H_larger @ exp_half_H_larger) @ (I - P_infty)\n",
    "Omega += Fm(exp_H_less) @ P_infty\n",
    "\n",
    "P_approx = Omega.conj().T @ Omega\n",
    "\n",
    "# Update the number of matrix-matrix multiplications\n",
    "n_mtx_mult += 5"
   ]
  },
  {
   "cell_type": "code",
   "execution_count": 18,
   "id": "9ad93ef8",
   "metadata": {},
   "outputs": [
    {
     "data": {
      "image/png": "[encoded data removed]",
      "text/plain": [
       "<Figure size 640x480 with 1 Axes>"
      ]
     },
     "metadata": {},
     "output_type": "display_data"
    }
   ],
   "source": [
    "plt.title(f\"{geom}: The grand canonical ensemble $\\\\beta = {beta}$\")\n",
    "\n",
    "plt.plot(E, FD_exact, 'ks-', label=\"Exact\")\n",
    "plt.plot(\n",
    "    E,\n",
    "    eigh(P_approx, eigvals_only=True)[::-1],\n",
    "    'r^-',\n",
    "    label=\"via wave operatore\"\n",
    ")\n",
    "plt.axvline(mu, linestyle='--', label=\"$\\mu$\")\n",
    "\n",
    "plt.xlabel(\"Energy\")\n",
    "plt.ylabel(\"Population\")\n",
    "plt.legend(numpoints=1)\n",
    "plt.savefig(f\"results_{geom}_beta={beta}.png\")\n",
    "plt.show()"
   ]
  },
  {
   "cell_type": "markdown",
   "id": "6f2b38a6",
   "metadata": {},
   "source": [
    "#### Total number matrix-matrix multiplications"
   ]
  },
  {
   "cell_type": "code",
   "execution_count": 19,
   "id": "ee191bc3",
   "metadata": {},
   "outputs": [
    {
     "data": {
      "text/plain": [
       "24"
      ]
     },
     "execution_count": 19,
     "metadata": {},
     "output_type": "execute_result"
    }
   ],
   "source": [
    "n_mtx_mult"
   ]
  },
  {
   "cell_type": "code",
   "execution_count": null,
   "id": "a7ad3964",
   "metadata": {},
   "outputs": [],
   "source": []
  }
 ],
 "metadata": {
  "kernelspec": {
   "display_name": "Python 3 (ipykernel)",
   "language": "python",
   "name": "python3"
  },
  "language_info": {
   "codemirror_mode": {
    "name": "ipython",
    "version": 3
   },
   "file_extension": ".py",
   "mimetype": "text/x-python",
   "name": "python",
   "nbconvert_exporter": "python",
   "pygments_lexer": "ipython3",
   "version": "3.9.16"
  }
 },
 "nbformat": 4,
 "nbformat_minor": 5
}
