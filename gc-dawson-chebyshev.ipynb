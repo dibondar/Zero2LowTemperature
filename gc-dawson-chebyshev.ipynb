{
 "cells": [
  {
   "cell_type": "markdown",
   "id": "43f42d93-d1b6-4773-a10b-59537380ca82",
   "metadata": {},
   "source": [
    "# GC Dawson\n",
    "This notebook will try to reproduce Denys's results so we can test some pragmatic things."
   ]
  },
  {
   "cell_type": "code",
   "execution_count": 1,
   "id": "9cdda7fc-381d-4741-aa2e-b459705857d1",
   "metadata": {},
   "outputs": [],
   "source": [
    "data = \"data\"\n",
    "geom = \"Al128\" #Si216 or Al128\n",
    "temperature = 3000"
   ]
  },
  {
   "cell_type": "code",
   "execution_count": 2,
   "id": "56945595-60a0-4b0c-9786-aa5cb006bf60",
   "metadata": {},
   "outputs": [
    {
     "name": "stdout",
     "output_type": "stream",
     "text": [
      "105.25834703428607\n"
     ]
    }
   ],
   "source": [
    "def fermi(x, m, beta):\n",
    "    from numpy import exp\n",
    "    try:\n",
    "        return 1.0 / (1 + exp(beta * (x - m)))\n",
    "    except OverflowError:\n",
    "        return 0\n",
    "kb = 3.1668114 * 10**(-6)\n",
    "beta = 1 / (temperature * kb)\n",
    "print(beta)"
   ]
  },
  {
   "cell_type": "markdown",
   "id": "eb3f12d0-b91a-4e4c-8427-011b50f85c9d",
   "metadata": {},
   "source": [
    "Read in the matrices and metadata."
   ]
  },
  {
   "cell_type": "code",
   "execution_count": 3,
   "id": "ec740908-0003-4496-be68-119154bfcf8c",
   "metadata": {},
   "outputs": [],
   "source": [
    "from scipy.io import mmread\n",
    "from numpy import identity\n",
    "H = mmread(f\"{data}/{geom}_H.mtx\").todense()\n",
    "S = mmread(f\"{data}/{geom}_S.mtx\").todense()\n",
    "I = identity(H.shape[0])"
   ]
  },
  {
   "cell_type": "code",
   "execution_count": 4,
   "id": "751c12b2-a551-4c1d-bc24-4078e0c3daef",
   "metadata": {},
   "outputs": [],
   "source": [
    "from yaml import load, SafeLoader\n",
    "with open(f\"{data}/{geom}_meta.yaml\") as ifile:\n",
    "    meta = load(ifile, Loader=SafeLoader)"
   ]
  },
  {
   "cell_type": "markdown",
   "id": "0b99bee1-f5f4-442b-aaa8-88835ad445fb",
   "metadata": {},
   "source": [
    "Transform to the orthogonal representation to reduce the amount of code."
   ]
  },
  {
   "cell_type": "code",
   "execution_count": 5,
   "id": "2ad3a80f-c418-4377-b347-6758766ee80d",
   "metadata": {},
   "outputs": [],
   "source": [
    "from numpy import sqrt\n",
    "def funm_herm(a, func):\n",
    "    from scipy.linalg import eigh\n",
    "    w, v = eigh(a)\n",
    "    w = func(w)\n",
    "    return (v * w) @ v.conj().T\n",
    "isq = funm_herm(S, lambda x: -1/sqrt(x))\n",
    "Horth = isq @ H @ isq"
   ]
  },
  {
   "cell_type": "markdown",
   "id": "364dd1b7-806b-4d08-92d5-d45c6b85b131",
   "metadata": {},
   "source": [
    "Get the reference solution."
   ]
  },
  {
   "cell_type": "code",
   "execution_count": 6,
   "id": "dc0001a8-a881-4180-8108-5d8f914f93d3",
   "metadata": {},
   "outputs": [],
   "source": [
    "def get_exact(w, v, occ, beta):\n",
    "    from numpy import identity, diag, trace\n",
    "    imat = identity(len(w))\n",
    "    left = w[0]\n",
    "    right = w[-1]\n",
    "    refD = 1*imat\n",
    "\n",
    "    while abs(trace(refD) - occ) > 1e-8:\n",
    "        mu = left  + 0.5*(right - left)\n",
    "        we = [fermi(x, mu, beta) for x in w]\n",
    "        refD = v.dot(diag(we)).dot(v.T)\n",
    "        if trace(refD) > occ:\n",
    "            right = mu\n",
    "        else:\n",
    "            left = mu\n",
    "\n",
    "    return refD, mu"
   ]
  },
  {
   "cell_type": "code",
   "execution_count": 7,
   "id": "f45b0ef1-51c5-4a35-8711-c88bf1737d4b",
   "metadata": {},
   "outputs": [],
   "source": [
    "from scipy.linalg import eigh\n",
    "w, v = eigh(Horth)\n",
    "nocc = meta[\"nel\"] // 2\n",
    "refK, mu = get_exact(w, v, nocc, beta)\n",
    "ref_occ, _ = eigh(refK)"
   ]
  },
  {
   "cell_type": "markdown",
   "id": "03b9285f-e5d1-466e-b012-6149e2feb7d3",
   "metadata": {},
   "source": [
    "Compute the zero temperature state."
   ]
  },
  {
   "cell_type": "code",
   "execution_count": 8,
   "id": "2e8ef77a-96fd-4439-992c-66a9ac28f5f0",
   "metadata": {},
   "outputs": [],
   "source": [
    "pureK = v[:, :nocc] @ v[:, :nocc].T\n",
    "pure_occ, _ = eigh(pureK)"
   ]
  },
  {
   "cell_type": "markdown",
   "id": "7af13fb9-c5f9-4111-ab32-ecb6e87b8111",
   "metadata": {},
   "source": [
    "Now try to use Denys's method."
   ]
  },
  {
   "cell_type": "code",
   "execution_count": 9,
   "id": "e34173cc-a945-4819-b7a1-e76aa2fe4942",
   "metadata": {},
   "outputs": [],
   "source": [
    "from numpy import array\n",
    "import mpmath as mp\n",
    "poly_coeff_exp = array(mp.chebyfit(mp.exp, [-1, 0], 11), dtype=float)\n",
    "\n",
    "def expm_specialized(A):\n",
    "    from numpy.linalg import norm\n",
    "    from numpy import ceil, log2, exp\n",
    "    A_L1 = norm(A, 1)\n",
    "    maxnorm = 1\n",
    "    n_squarings = max(0, int(ceil(log2(A_L1 / maxnorm))))\n",
    "    A = A / 2 ** n_squarings\n",
    "    \n",
    "    R = poly_coeff_exp[0] * A + poly_coeff_exp[1] * I\n",
    "    \n",
    "    for c in poly_coeff_exp[2:]:\n",
    "        R = c * I + A @ R\n",
    "        \n",
    "    for _ in range(n_squarings):\n",
    "        R = R @ R\n",
    "    return R\n",
    "\n",
    "def anticommut(a, b):\n",
    "    temp = a @ b\n",
    "    return temp + temp.conj().T\n",
    "\n",
    "poly_fm = array(mp.chebyfit(lambda x : 1 / mp.sqrt(1 + x), [0, 2], 11, error=False), dtype=float)\n",
    "\n",
    "def Fm(A):\n",
    "    \n",
    "    R = poly_fm[0] * A + poly_fm[1] * I\n",
    "    \n",
    "    for c in poly_fm[2:]:\n",
    "        R = c * I + A @ R\n",
    "   \n",
    "    return R"
   ]
  },
  {
   "cell_type": "code",
   "execution_count": 10,
   "id": "56b91792-2058-49ed-a4b9-c7ae054043a7",
   "metadata": {},
   "outputs": [],
   "source": [
    "H_larger = 0.5 * anticommut(Horth - mu * I, I - pureK)\n",
    "exp_half_H_larger = expm_specialized(-0.5 * beta * H_larger)\n",
    "H_less = 0.5 * anticommut(Horth - mu * I, pureK)\n",
    "exp_H_less = expm_specialized(beta * H_less)\n",
    "Omega = exp_half_H_larger @ Fm(exp_half_H_larger @ exp_half_H_larger) @ (I - pureK)\n",
    "Omega += Fm(exp_H_less) @ pureK"
   ]
  },
  {
   "cell_type": "code",
   "execution_count": 11,
   "id": "ee7bd54d-9dc9-4268-b230-d92ec19483d7",
   "metadata": {},
   "outputs": [],
   "source": [
    "compK = Omega.conj().T @ Omega\n",
    "comp_occ, _ = eigh(compK)"
   ]
  },
  {
   "cell_type": "markdown",
   "id": "1917df40-5b7f-4c26-9e17-358cc77f270a",
   "metadata": {},
   "source": [
    "Plot the spectra."
   ]
  },
  {
   "cell_type": "code",
   "execution_count": 12,
   "id": "87e882af-d722-432f-9549-1aee4382b590",
   "metadata": {},
   "outputs": [
    {
     "data": {
      "text/plain": [
       "<matplotlib.legend.Legend at 0x1323aceb0>"
      ]
     },
     "execution_count": 12,
     "metadata": {},
     "output_type": "execute_result"
    },
    {
     "data": {
      "image/png": "[encoded data removed]",
      "text/plain": [
       "<Figure size 600x300 with 1 Axes>"
      ]
     },
     "metadata": {},
     "output_type": "display_data"
    }
   ],
   "source": [
    "from matplotlib import pyplot as plt\n",
    "fig, axs = plt.subplots(1, 1, figsize=(6, 3))\n",
    "axs.axvline(mu, label=\"$\\mu$\", color='k')\n",
    "axs.plot(w, ref_occ[::-1], 'C0x', label=\"Reference\")\n",
    "axs.plot(w, comp_occ[::-1], 'C1+', label=\"Computed\")\n",
    "axs.set_xlabel(\"Energy\")\n",
    "axs.set_ylabel(\"Occupation\")\n",
    "axs.legend()"
   ]
  },
  {
   "cell_type": "markdown",
   "id": "2e4f759d-3ec2-4bdf-8621-e012d97e05a9",
   "metadata": {},
   "source": [
    "Print the error measures.\n",
    "\n",
    "I ideally, the norm and energy errors would be below to $10^{-3}$, and the number of electrons error more like $10^{-2}$. "
   ]
  },
  {
   "cell_type": "code",
   "execution_count": 13,
   "id": "3db09c27-66ce-470e-84e8-5947eb1e728e",
   "metadata": {},
   "outputs": [
    {
     "name": "stdout",
     "output_type": "stream",
     "text": [
      "Error in the norm 5.4431501297361916e-06\n",
      "For reference, the change vs. zero temperature 2.1288846968729875\n",
      "Error in the energy -1.9202333596979315e-05\n",
      "Error in the number of electrons 6.708314424486161e-05\n"
     ]
    }
   ],
   "source": [
    "from numpy.linalg import norm\n",
    "from numpy import trace\n",
    "print(\"Error in the norm\", norm(refK - compK))\n",
    "print(\"For reference, the change vs. zero temperature\", norm(refK - pureK))\n",
    "print(\"Error in the energy\", trace(refK @ Horth) - trace(compK @ Horth))\n",
    "print(\"Error in the number of electrons\", trace(refK) - trace(compK))"
   ]
  },
  {
   "cell_type": "code",
   "execution_count": null,
   "id": "fcc6dc6b",
   "metadata": {},
   "outputs": [],
   "source": []
  }
 ],
 "metadata": {
  "kernelspec": {
   "display_name": "Python 3 (ipykernel)",
   "language": "python",
   "name": "python3"
  },
  "language_info": {
   "codemirror_mode": {
    "name": "ipython",
    "version": 3
   },
   "file_extension": ".py",
   "mimetype": "text/x-python",
   "name": "python",
   "nbconvert_exporter": "python",
   "pygments_lexer": "ipython3",
   "version": "3.9.16"
  }
 },
 "nbformat": 4,
 "nbformat_minor": 5
}
